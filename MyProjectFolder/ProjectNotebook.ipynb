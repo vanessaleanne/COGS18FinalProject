{
 "cells": [
  {
   "cell_type": "markdown",
   "metadata": {},
   "source": [
    "# Anxiety Chatbot\n",
    "\n",
    "I decided to make a chatbot that helps a person work through an anxiety attack, or any situation with heightened anxiety. This idea came to me after I have tried several mental health applications; none of which provided a way of actually working through anxiety while it is occurring. \n",
    "\n",
    "This bot allows one to work through the most effective questions to self-treat anxiety and calm down. It asks a series of multiple choice questions that generally show to reduce anxiety. It also includes a grounding method that allows the user to learn how to refocus their energy in the present. This chat is meant to be short and quick to help one recenter as soon as possible. It ends once the user answers with the multiple choice option that represents they are feeling better."
   ]
  },
  {
   "cell_type": "markdown",
   "metadata": {},
   "source": [
    "## Let's calm down!\n",
    "\n",
    "Learn how to work through your anxiety with these techniques! Good luck and thank you!"
   ]
  },
  {
   "cell_type": "code",
   "execution_count": 1,
   "metadata": {},
   "outputs": [],
   "source": [
    "from my_module.anxiety_bot import *"
   ]
  },
  {
   "cell_type": "code",
   "execution_count": 2,
   "metadata": {},
   "outputs": [],
   "source": [
    "def anxiety_help():\n",
    "    \"\"\"\n",
    "    Uses a counter to go through the dictionary\n",
    "    and acts as the main function of the chatbot\n",
    "    \"\"\"\n",
    "    treat = True\n",
    "    count = 1\n",
    "    while treat:\n",
    "        print(question(count))\n",
    "       \n",
    "        if count > 13:\n",
    "            break\n",
    "        ans = input('Answer:\\t')\n",
    "        ans = same_input(ans)\n",
    "        if ans == 'a' and should_continue(ans) == True:\n",
    "            count += 1\n",
    "        elif ans == 'b' and should_continue(ans) == False:\n",
    "            end_chat(ans)\n",
    "            treat = False\n",
    "            print(\"Come back if you need anymore help, goodbye!\")\n",
    "        else:\n",
    "            print(\"Sorry that answer is not valid. Try again.\")\n",
    "            \n",
    "        #out_ans = None\n",
    "        \n",
    "        #ans = prepare_text(ans)\n",
    "        \n",
    "        #if end_chat(ans):\n",
    "            #out_ans = 'Come back if you need anymore help, goodbye!'\n",
    "            #treat = False"
   ]
  },
  {
   "cell_type": "code",
   "execution_count": 3,
   "metadata": {},
   "outputs": [],
   "source": [
    "##Uncomment this line to run chatbot\n",
    "#anxiety_help()"
   ]
  },
  {
   "cell_type": "code",
   "execution_count": null,
   "metadata": {},
   "outputs": [],
   "source": []
  }
 ],
 "metadata": {
  "kernelspec": {
   "display_name": "Python 3",
   "language": "python",
   "name": "python3"
  },
  "language_info": {
   "codemirror_mode": {
    "name": "ipython",
    "version": 3
   },
   "file_extension": ".py",
   "mimetype": "text/x-python",
   "name": "python",
   "nbconvert_exporter": "python",
   "pygments_lexer": "ipython3",
   "version": "3.7.3"
  }
 },
 "nbformat": 4,
 "nbformat_minor": 2
}
